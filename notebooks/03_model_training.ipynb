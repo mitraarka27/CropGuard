{
 "cells": [
  {
   "cell_type": "markdown",
   "id": "1debac63-d0c7-445c-a4a1-c910f071b09f",
   "metadata": {},
   "source": [
    "# 03 - Model Training: Crop Disease Classification with MobileNetV2\n",
    "\n",
    "## Goals of this Notebook\n",
    "\n",
    "- Set up training and validation pipelines\n",
    "- Fine-tune a pretrained MobileNetV2 model\n",
    "- Use light data augmentation on training images\n",
    "- Track model performance during training\n",
    "- Save the best performing model for downstream use\n",
    "\n",
    "---\n",
    "\n",
    "## Why Fine-Tuning?\n",
    "\n",
    "Instead of training from scratch (which requires huge datasets and resources),  \n",
    "we leverage MobileNetV2's pretrained knowledge of general textures, shapes, and colors.  \n",
    "We only retrain its final classifier to specialize in detecting crop diseases from leaves.\n",
    "\n",
    "---"
   ]
  },
  {
   "cell_type": "code",
   "execution_count": 5,
   "id": "2fd8812e-18d7-4452-8c30-1f7580d6d758",
   "metadata": {},
   "outputs": [
    {
     "name": "stdout",
     "output_type": "stream",
     "text": [
      "[DEBUG] Current working directory: /Users/mitra/vibe_code/CropGuard/notebooks\n",
      "[DEBUG] Project root added to sys.path: /Users/mitra/vibe_code/CropGuard\n",
      "[INFO] Using device: cpu\n"
     ]
    }
   ],
   "source": [
    "import os\n",
    "import sys\n",
    "import torch\n",
    "import torch.nn as nn\n",
    "import torch.optim as optim\n",
    "from torch.optim import lr_scheduler\n",
    "import matplotlib.pyplot as plt\n",
    "\n",
    "current_dir = os.getcwd()\n",
    "print(f\"[DEBUG] Current working directory: {current_dir}\")\n",
    "\n",
    "project_root = os.path.dirname(current_dir)\n",
    "if project_root not in sys.path:\n",
    "    sys.path.append(project_root)\n",
    "print(f\"[DEBUG] Project root added to sys.path: {project_root}\")\n",
    "\n",
    "from src.data.dataset import PlantVillageDataset\n",
    "from src.data.augment import AugmentationPipeline\n",
    "from src.model.architecture import build_model\n",
    "from src.model.train import train_one_epoch, validate_one_epoch\n",
    "from src.utils.config import TRAIN_DIR, VAL_DIR, MODEL_DIR, BEST_MODEL_PATH\n",
    "\n",
    "# 📦 Check GPU availability\n",
    "device = torch.device(\"cuda\" if torch.cuda.is_available() else \"cpu\")\n",
    "print(f\"[INFO] Using device: {device}\")"
   ]
  },
  {
   "cell_type": "markdown",
   "id": "526823a7-da12-4e6f-82d8-92b8748789b7",
   "metadata": {},
   "source": [
    "# STEP 1: Building Training and Validation Datasets\n",
    "\n",
    "We will use:\n",
    "\n",
    "- **Train Transformations** ➔ flip, rotate, jitter, normalize\n",
    "- **Val Transformations** ➔ only normalize (no augmentation)\n",
    "\n",
    "Then wrap them into DataLoaders for batching and shuffling."
   ]
  },
  {
   "cell_type": "code",
   "execution_count": 7,
   "id": "8b40a556-3155-4637-b05d-5914798eb745",
   "metadata": {},
   "outputs": [],
   "source": [
    "# Set up transforms\n",
    "augment = AugmentationPipeline()\n",
    "\n",
    "train_ds = PlantVillageDataset(\n",
    "    root_dir=TRAIN_DIR,\n",
    "    transform=augment.get_transforms(\"train\")\n",
    ")\n",
    "\n",
    "val_ds = PlantVillageDataset(\n",
    "    root_dir=VAL_DIR,\n",
    "    transform=augment.get_transforms(\"val\")\n",
    ")\n",
    "\n",
    "# DataLoaders\n",
    "train_loader = torch.utils.data.DataLoader(train_ds, batch_size=32, shuffle=True, num_workers=2)\n",
    "val_loader = torch.utils.data.DataLoader(val_ds, batch_size=32, shuffle=False, num_workers=2)\n",
    "\n",
    "dataloaders = {\"train\": train_loader, \"val\": val_loader}"
   ]
  },
  {
   "cell_type": "markdown",
   "id": "9b7487d7-6475-4ba1-a27e-1c60b877c0b2",
   "metadata": {},
   "source": [
    "# STEP 2: Model, Loss Function, Optimizer and Learning Rate Scheduler\n",
    "\n",
    "- **Model:** MobileNetV2 pretrained on ImageNet\n",
    "- **Loss:** CrossEntropyLoss (standard for multi-class classification)\n",
    "- **Optimizer:** Adam (adaptive learning rate optimizer)\n",
    "- **Scheduler:** ReduceLROnPlateau (lower learning rate when val loss plateaus)"
   ]
  },
  {
   "cell_type": "code",
   "execution_count": 6,
   "id": "8e2845cc-68d9-4387-88d6-21ede904bcef",
   "metadata": {},
   "outputs": [],
   "source": [
    "# Number of classes\n",
    "num_classes = len(train_ds.class_to_idx)\n",
    "\n",
    "# Build model\n",
    "model = build_model(num_classes=num_classes, freeze_backbone=True)\n",
    "model = model.to(device)\n",
    "\n",
    "# Loss and Optimizer\n",
    "criterion = nn.CrossEntropyLoss()\n",
    "optimizer = optim.Adam(model.parameters(), lr=1e-3)\n",
    "\n",
    "# Scheduler: reduce LR when val loss stops improving\n",
    "scheduler = lr_scheduler.ReduceLROnPlateau(optimizer, mode='min', patience=3, factor=0.5)"
   ]
  },
  {
   "cell_type": "markdown",
   "id": "c691d9d9-0362-445d-9d3f-1f257250a990",
   "metadata": {},
   "source": [
    "# STEP 3: Training and Validation\n",
    "\n",
    "Train the model for a number of epochs,  \n",
    "track training and validation loss and accuracy,  \n",
    "and save the best model checkpoint based on validation accuracy."
   ]
  },
  {
   "cell_type": "code",
   "execution_count": 8,
   "id": "282e7ff2-b998-4e13-9928-8eb770826047",
   "metadata": {},
   "outputs": [
    {
     "name": "stdout",
     "output_type": "stream",
     "text": [
      "\n",
      "🟰🟰🟰 [INFO] Starting Epoch 1/20 🟰🟰🟰\n"
     ]
    },
    {
     "name": "stderr",
     "output_type": "stream",
     "text": [
      "                                                                           \r"
     ]
    },
    {
     "name": "stdout",
     "output_type": "stream",
     "text": [
      "[INFO] Epoch 1 completed in 744.88 sec\n",
      "  - Train Loss: 0.8718 | Train Acc: 0.7567\n",
      "  - Val Loss: 0.4158 | Val Acc: 0.8802\n",
      "[💾] Best model saved with Val Acc: 0.8802\n",
      "\n",
      "🟰🟰🟰 [INFO] Starting Epoch 2/20 🟰🟰🟰\n"
     ]
    },
    {
     "name": "stderr",
     "output_type": "stream",
     "text": [
      "                                                                           \r"
     ]
    },
    {
     "name": "stdout",
     "output_type": "stream",
     "text": [
      "[INFO] Epoch 2 completed in 745.61 sec\n",
      "  - Train Loss: 0.4721 | Train Acc: 0.8544\n",
      "  - Val Loss: 0.3075 | Val Acc: 0.9052\n",
      "[💾] Best model saved with Val Acc: 0.9052\n",
      "\n",
      "🟰🟰🟰 [INFO] Starting Epoch 3/20 🟰🟰🟰\n"
     ]
    },
    {
     "name": "stderr",
     "output_type": "stream",
     "text": [
      "                                                                           \r"
     ]
    },
    {
     "name": "stdout",
     "output_type": "stream",
     "text": [
      "[INFO] Epoch 3 completed in 760.69 sec\n",
      "  - Train Loss: 0.4150 | Train Acc: 0.8646\n",
      "  - Val Loss: 0.2766 | Val Acc: 0.9129\n",
      "[💾] Best model saved with Val Acc: 0.9129\n",
      "\n",
      "🟰🟰🟰 [INFO] Starting Epoch 4/20 🟰🟰🟰\n"
     ]
    },
    {
     "name": "stderr",
     "output_type": "stream",
     "text": [
      "                                                                           \r"
     ]
    },
    {
     "name": "stdout",
     "output_type": "stream",
     "text": [
      "[INFO] Epoch 4 completed in 772.69 sec\n",
      "  - Train Loss: 0.3880 | Train Acc: 0.8737\n",
      "  - Val Loss: 0.2534 | Val Acc: 0.9200\n",
      "[💾] Best model saved with Val Acc: 0.9200\n",
      "\n",
      "🟰🟰🟰 [INFO] Starting Epoch 5/20 🟰🟰🟰\n"
     ]
    },
    {
     "name": "stderr",
     "output_type": "stream",
     "text": [
      "                                                                           \r"
     ]
    },
    {
     "name": "stdout",
     "output_type": "stream",
     "text": [
      "[INFO] Epoch 5 completed in 755.48 sec\n",
      "  - Train Loss: 0.3736 | Train Acc: 0.8764\n",
      "  - Val Loss: 0.2733 | Val Acc: 0.9065\n",
      "\n",
      "🟰🟰🟰 [INFO] Starting Epoch 6/20 🟰🟰🟰\n"
     ]
    },
    {
     "name": "stderr",
     "output_type": "stream",
     "text": [
      "                                                                           \r"
     ]
    },
    {
     "name": "stdout",
     "output_type": "stream",
     "text": [
      "[INFO] Epoch 6 completed in 745.81 sec\n",
      "  - Train Loss: 0.3697 | Train Acc: 0.8743\n",
      "  - Val Loss: 0.2454 | Val Acc: 0.9203\n",
      "[💾] Best model saved with Val Acc: 0.9203\n",
      "\n",
      "🟰🟰🟰 [INFO] Starting Epoch 7/20 🟰🟰🟰\n"
     ]
    },
    {
     "name": "stderr",
     "output_type": "stream",
     "text": [
      "                                                                           \r"
     ]
    },
    {
     "name": "stdout",
     "output_type": "stream",
     "text": [
      "[INFO] Epoch 7 completed in 1655.25 sec\n",
      "  - Train Loss: 0.3625 | Train Acc: 0.8788\n",
      "  - Val Loss: 0.2885 | Val Acc: 0.9076\n",
      "\n",
      "🟰🟰🟰 [INFO] Starting Epoch 8/20 🟰🟰🟰\n"
     ]
    },
    {
     "name": "stderr",
     "output_type": "stream",
     "text": [
      "                                                                           \r"
     ]
    },
    {
     "name": "stdout",
     "output_type": "stream",
     "text": [
      "[INFO] Epoch 8 completed in 924.65 sec\n",
      "  - Train Loss: 0.3545 | Train Acc: 0.8820\n",
      "  - Val Loss: 0.2433 | Val Acc: 0.9213\n",
      "[💾] Best model saved with Val Acc: 0.9213\n",
      "\n",
      "🟰🟰🟰 [INFO] Starting Epoch 9/20 🟰🟰🟰\n"
     ]
    },
    {
     "name": "stderr",
     "output_type": "stream",
     "text": [
      "                                                                           \r"
     ]
    },
    {
     "name": "stdout",
     "output_type": "stream",
     "text": [
      "[INFO] Epoch 9 completed in 1852.09 sec\n",
      "  - Train Loss: 0.3523 | Train Acc: 0.8817\n",
      "  - Val Loss: 0.2562 | Val Acc: 0.9153\n",
      "\n",
      "🟰🟰🟰 [INFO] Starting Epoch 10/20 🟰🟰🟰\n"
     ]
    },
    {
     "name": "stderr",
     "output_type": "stream",
     "text": [
      "                                                                           \r"
     ]
    },
    {
     "name": "stdout",
     "output_type": "stream",
     "text": [
      "[INFO] Epoch 10 completed in 1355.58 sec\n",
      "  - Train Loss: 0.3542 | Train Acc: 0.8789\n",
      "  - Val Loss: 0.2294 | Val Acc: 0.9244\n",
      "[💾] Best model saved with Val Acc: 0.9244\n",
      "\n",
      "🟰🟰🟰 [INFO] Starting Epoch 11/20 🟰🟰🟰\n"
     ]
    },
    {
     "name": "stderr",
     "output_type": "stream",
     "text": [
      "                                                                           \r"
     ]
    },
    {
     "name": "stdout",
     "output_type": "stream",
     "text": [
      "[INFO] Epoch 11 completed in 2242.25 sec\n",
      "  - Train Loss: 0.3463 | Train Acc: 0.8857\n",
      "  - Val Loss: 0.2090 | Val Acc: 0.9315\n",
      "[💾] Best model saved with Val Acc: 0.9315\n",
      "\n",
      "🟰🟰🟰 [INFO] Starting Epoch 12/20 🟰🟰🟰\n"
     ]
    },
    {
     "name": "stderr",
     "output_type": "stream",
     "text": [
      "                                                                           \r"
     ]
    },
    {
     "name": "stdout",
     "output_type": "stream",
     "text": [
      "[INFO] Epoch 12 completed in 3352.88 sec\n",
      "  - Train Loss: 0.3409 | Train Acc: 0.8832\n",
      "  - Val Loss: 0.2296 | Val Acc: 0.9230\n",
      "\n",
      "🟰🟰🟰 [INFO] Starting Epoch 13/20 🟰🟰🟰\n"
     ]
    },
    {
     "name": "stderr",
     "output_type": "stream",
     "text": [
      "                                                                           \r"
     ]
    },
    {
     "name": "stdout",
     "output_type": "stream",
     "text": [
      "[INFO] Epoch 13 completed in 755.69 sec\n",
      "  - Train Loss: 0.3408 | Train Acc: 0.8834\n",
      "  - Val Loss: 0.2430 | Val Acc: 0.9170\n",
      "\n",
      "🟰🟰🟰 [INFO] Starting Epoch 14/20 🟰🟰🟰\n"
     ]
    },
    {
     "name": "stderr",
     "output_type": "stream",
     "text": [
      "                                                                           \r"
     ]
    },
    {
     "name": "stdout",
     "output_type": "stream",
     "text": [
      "[INFO] Epoch 14 completed in 744.68 sec\n",
      "  - Train Loss: 0.3440 | Train Acc: 0.8839\n",
      "  - Val Loss: 0.2215 | Val Acc: 0.9257\n",
      "\n",
      "🟰🟰🟰 [INFO] Starting Epoch 15/20 🟰🟰🟰\n"
     ]
    },
    {
     "name": "stderr",
     "output_type": "stream",
     "text": [
      "                                                                           \r"
     ]
    },
    {
     "name": "stdout",
     "output_type": "stream",
     "text": [
      "[INFO] Epoch 15 completed in 3724.28 sec\n",
      "  - Train Loss: 0.3357 | Train Acc: 0.8877\n",
      "  - Val Loss: 0.2069 | Val Acc: 0.9304\n",
      "\n",
      "🟰🟰🟰 [INFO] Starting Epoch 16/20 🟰🟰🟰\n"
     ]
    },
    {
     "name": "stderr",
     "output_type": "stream",
     "text": [
      "                                                                           \r"
     ]
    },
    {
     "name": "stdout",
     "output_type": "stream",
     "text": [
      "[INFO] Epoch 16 completed in 2252.74 sec\n",
      "  - Train Loss: 0.3469 | Train Acc: 0.8833\n",
      "  - Val Loss: 0.2335 | Val Acc: 0.9203\n",
      "\n",
      "🟰🟰🟰 [INFO] Starting Epoch 17/20 🟰🟰🟰\n"
     ]
    },
    {
     "name": "stderr",
     "output_type": "stream",
     "text": [
      "                                                                           \r"
     ]
    },
    {
     "name": "stdout",
     "output_type": "stream",
     "text": [
      "[INFO] Epoch 17 completed in 967.55 sec\n",
      "  - Train Loss: 0.3410 | Train Acc: 0.8851\n",
      "  - Val Loss: 0.2409 | Val Acc: 0.9208\n",
      "\n",
      "🟰🟰🟰 [INFO] Starting Epoch 18/20 🟰🟰🟰\n"
     ]
    },
    {
     "name": "stderr",
     "output_type": "stream",
     "text": [
      "                                                                           \r"
     ]
    },
    {
     "name": "stdout",
     "output_type": "stream",
     "text": [
      "[INFO] Epoch 18 completed in 7587.58 sec\n",
      "  - Train Loss: 0.3383 | Train Acc: 0.8880\n",
      "  - Val Loss: 0.2106 | Val Acc: 0.9329\n",
      "[💾] Best model saved with Val Acc: 0.9329\n",
      "\n",
      "🟰🟰🟰 [INFO] Starting Epoch 19/20 🟰🟰🟰\n"
     ]
    },
    {
     "name": "stderr",
     "output_type": "stream",
     "text": [
      "                                                                           \r"
     ]
    },
    {
     "name": "stdout",
     "output_type": "stream",
     "text": [
      "[INFO] Epoch 19 completed in 801.89 sec\n",
      "  - Train Loss: 0.3345 | Train Acc: 0.8891\n",
      "  - Val Loss: 0.2239 | Val Acc: 0.9277\n",
      "\n",
      "🟰🟰🟰 [INFO] Starting Epoch 20/20 🟰🟰🟰\n"
     ]
    },
    {
     "name": "stderr",
     "output_type": "stream",
     "text": [
      "                                                                           "
     ]
    },
    {
     "name": "stdout",
     "output_type": "stream",
     "text": [
      "[INFO] Epoch 20 completed in 1004.97 sec\n",
      "  - Train Loss: 0.3164 | Train Acc: 0.8949\n",
      "  - Val Loss: 0.1948 | Val Acc: 0.9334\n",
      "[💾] Best model saved with Val Acc: 0.9334\n"
     ]
    },
    {
     "name": "stderr",
     "output_type": "stream",
     "text": [
      "\r"
     ]
    }
   ],
   "source": [
    "from tqdm import tqdm\n",
    "import time\n",
    "\n",
    "num_epochs = 20\n",
    "best_val_acc = 0.0\n",
    "history = {\"train_loss\": [], \"train_acc\": [], \"val_loss\": [], \"val_acc\": []}\n",
    "\n",
    "os.makedirs(MODEL_DIR, exist_ok=True)\n",
    "\n",
    "for epoch in range(num_epochs):\n",
    "    start_time = time.time()\n",
    "    print(f\"\\n🟰🟰🟰 [INFO] Starting Epoch {epoch+1}/{num_epochs} 🟰🟰🟰\")\n",
    "\n",
    "    # Training phase\n",
    "    model.train()\n",
    "    train_running_loss = 0.0\n",
    "    train_correct = 0\n",
    "    train_total = 0\n",
    "\n",
    "    train_loader = tqdm(dataloaders[\"train\"], desc=f\"Epoch {epoch+1} - Training\", leave=False)\n",
    "\n",
    "    for images, labels in train_loader:\n",
    "        images, labels = images.to(device), labels.to(device)\n",
    "\n",
    "        optimizer.zero_grad()\n",
    "        outputs = model(images)\n",
    "        loss = criterion(outputs, labels)\n",
    "        loss.backward()\n",
    "        optimizer.step()\n",
    "\n",
    "        train_running_loss += loss.item()\n",
    "        _, preds = outputs.max(1)\n",
    "        train_correct += preds.eq(labels).sum().item()\n",
    "        train_total += labels.size(0)\n",
    "\n",
    "        train_loader.set_postfix({\n",
    "            'loss': loss.item(),\n",
    "            'acc': train_correct / train_total\n",
    "        })\n",
    "\n",
    "    train_loss = train_running_loss / len(dataloaders[\"train\"])\n",
    "    train_acc = train_correct / train_total\n",
    "\n",
    "    # Validation phase\n",
    "    model.eval()\n",
    "    val_running_loss = 0.0\n",
    "    val_correct = 0\n",
    "    val_total = 0\n",
    "\n",
    "    val_loader = tqdm(dataloaders[\"val\"], desc=f\"Epoch {epoch+1} - Validation\", leave=False)\n",
    "\n",
    "    with torch.no_grad():\n",
    "        for images, labels in val_loader:\n",
    "            images, labels = images.to(device), labels.to(device)\n",
    "\n",
    "            outputs = model(images)\n",
    "            loss = criterion(outputs, labels)\n",
    "\n",
    "            val_running_loss += loss.item()\n",
    "            _, preds = outputs.max(1)\n",
    "            val_correct += preds.eq(labels).sum().item()\n",
    "            val_total += labels.size(0)\n",
    "\n",
    "            val_loader.set_postfix({\n",
    "                'loss': loss.item(),\n",
    "                'acc': val_correct / val_total\n",
    "            })\n",
    "\n",
    "    val_loss = val_running_loss / len(dataloaders[\"val\"])\n",
    "    val_acc = val_correct / val_total\n",
    "\n",
    "    scheduler.step(val_loss)\n",
    "\n",
    "    history[\"train_loss\"].append(train_loss)\n",
    "    history[\"train_acc\"].append(train_acc)\n",
    "    history[\"val_loss\"].append(val_loss)\n",
    "    history[\"val_acc\"].append(val_acc)\n",
    "\n",
    "    epoch_duration = time.time() - start_time\n",
    "    print(f\"[INFO] Epoch {epoch+1} completed in {epoch_duration:.2f} sec\")\n",
    "    print(f\"  - Train Loss: {train_loss:.4f} | Train Acc: {train_acc:.4f}\")\n",
    "    print(f\"  - Val Loss: {val_loss:.4f} | Val Acc: {val_acc:.4f}\")\n",
    "\n",
    "    # Save best model\n",
    "    if val_acc > best_val_acc:\n",
    "        best_val_acc = val_acc\n",
    "        torch.save(model.state_dict(), BEST_MODEL_PATH)\n",
    "        print(f\" Best model saved with Val Acc: {best_val_acc:.4f}\")"
   ]
  },
  {
   "cell_type": "markdown",
   "id": "2d7dba80-3c5f-48e2-bd11-702e594c0fe5",
   "metadata": {},
   "source": [
    "# STEP 4: Plotting Loss and Accuracy Curves\n",
    "\n",
    "Visualizing training progress helps diagnose overfitting, underfitting, or training issues early."
   ]
  },
  {
   "cell_type": "code",
   "execution_count": 10,
   "id": "8b5ca0de-5865-4c32-908c-8d0f27e965d7",
   "metadata": {},
   "outputs": [
    {
     "data": {
      "image/png": "[encoded data removed]",
      "text/plain": [
       "<Figure size 1000x500 with 1 Axes>"
      ]
     },
     "metadata": {},
     "output_type": "display_data"
    },
    {
     "data": {
      "image/png": "[encoded data removed]",
      "text/plain": [
       "<Figure size 1000x500 with 1 Axes>"
      ]
     },
     "metadata": {},
     "output_type": "display_data"
    }
   ],
   "source": [
    "# Plot Loss\n",
    "plt.figure(figsize=(10,5))\n",
    "plt.plot(history[\"train_loss\"], label=\"Train Loss\")\n",
    "plt.plot(history[\"val_loss\"], label=\"Val Loss\")\n",
    "plt.title(\"Loss vs Epochs\")\n",
    "plt.xlabel(\"Epoch\")\n",
    "plt.ylabel(\"Loss\")\n",
    "plt.legend()\n",
    "plt.grid()\n",
    "plt.show()\n",
    "\n",
    "# Plot Accuracy\n",
    "plt.figure(figsize=(10,5))\n",
    "plt.plot(history[\"train_acc\"], label=\"Train Accuracy\")\n",
    "plt.plot(history[\"val_acc\"], label=\"Val Accuracy\")\n",
    "plt.title(\"Accuracy vs Epochs\")\n",
    "plt.xlabel(\"Epoch\")\n",
    "plt.ylabel(\"Accuracy\")\n",
    "plt.legend()\n",
    "plt.grid()\n",
    "plt.show()"
   ]
  },
  {
   "cell_type": "markdown",
   "id": "1315323a-0905-43f3-b994-837756ed28c0",
   "metadata": {},
   "source": [
    "# STEP 5: Saving Model and Wrapping Up\n",
    "\n",
    "- The best model (highest validation accuracy) has been saved at:\n",
    "  - `models/cropguard_best.pt`\n",
    "- Ready for inference or deployment in app!\n",
    "\n",
    "---\n",
    "\n",
    "MobileNetV2 fine-tuning completed successfully.  \n",
    "Next step: Evaluate on Test set and/or integrate into app.\n",
    "\n",
    "---"
   ]
  },
  {
   "cell_type": "markdown",
   "id": "90d0b427-251f-4de1-9ffb-ab7feab4bc32",
   "metadata": {},
   "source": [
    "# STEP 6: Save Model Labels"
   ]
  },
  {
   "cell_type": "code",
   "execution_count": 9,
   "id": "f27464d2-1bc3-43ab-a172-10e2f40b1e81",
   "metadata": {},
   "outputs": [
    {
     "name": "stdout",
     "output_type": "stream",
     "text": [
      "[INFO] Saved labels.json successfully.\n"
     ]
    }
   ],
   "source": [
    "import json\n",
    "import os\n",
    "\n",
    "# Assuming you have a class_to_idx dict from your training dataset\n",
    "# If not, create from train_ds directly\n",
    "class_to_idx = train_ds.class_to_idx\n",
    "idx_to_class = {v: k for k, v in class_to_idx.items()}\n",
    "\n",
    "# Make sure the model directory exists\n",
    "os.makedirs(\"models\", exist_ok=True)\n",
    "\n",
    "# Save the mapping\n",
    "with open(\"models/labels.json\", \"w\") as f:\n",
    "    json.dump(idx_to_class, f, indent=4)\n",
    "\n",
    "print(\"[INFO] Saved labels.json successfully.\")"
   ]
  },
  {
   "cell_type": "code",
   "execution_count": null,
   "id": "95e13459-021b-4bc6-9f58-34651878e143",
   "metadata": {},
   "outputs": [],
   "source": []
  }
 ],
 "metadata": {
  "kernelspec": {
   "display_name": "Python (CropGuard)",
   "language": "python",
   "name": "cropguard"
  },
  "language_info": {
   "codemirror_mode": {
    "name": "ipython",
    "version": 3
   },
   "file_extension": ".py",
   "mimetype": "text/x-python",
   "name": "python",
   "nbconvert_exporter": "python",
   "pygments_lexer": "ipython3",
   "version": "3.12.2"
  }
 },
 "nbformat": 4,
 "nbformat_minor": 5
}
